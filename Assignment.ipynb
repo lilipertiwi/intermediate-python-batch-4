{
  "nbformat": 4,
  "nbformat_minor": 0,
  "metadata": {
    "colab": {
      "name": "Assignment.ipynb",
      "provenance": []
    },
    "kernelspec": {
      "name": "python3",
      "display_name": "Python 3"
    }
  },
  "cells": [
    {
      "cell_type": "markdown",
      "metadata": {
        "id": "49JR8NPkbg_k"
      },
      "source": [
        "# ASSIGNMENT"
      ]
    },
    {
      "cell_type": "code",
      "metadata": {
        "id": "g4KVoTY6dRkn"
      },
      "source": [
        "import numpy as np"
      ],
      "execution_count": 2,
      "outputs": []
    },
    {
      "cell_type": "markdown",
      "metadata": {
        "id": "1wAp0dL0cEAT"
      },
      "source": [
        "\r\n",
        "\r\n",
        "1.   Create a 4x4 matrix with values ranging from 0 to 3.\r\n",
        "(The following image is just as an example. It doesn't represent the real image of arrays in the question)\r\n",
        "\r\n"
      ]
    },
    {
      "cell_type": "code",
      "metadata": {
        "colab": {
          "base_uri": "https://localhost:8080/"
        },
        "id": "VI5sMszpRiLs",
        "outputId": "86cb2e24-df33-4f3c-914a-cbd35562c876"
      },
      "source": [
        "arr1 = np.linspace(0,3,16).reshape(4,4)\r\n",
        "arr1"
      ],
      "execution_count": 5,
      "outputs": [
        {
          "output_type": "execute_result",
          "data": {
            "text/plain": [
              "array([[0. , 0.2, 0.4, 0.6],\n",
              "       [0.8, 1. , 1.2, 1.4],\n",
              "       [1.6, 1.8, 2. , 2.2],\n",
              "       [2.4, 2.6, 2.8, 3. ]])"
            ]
          },
          "metadata": {
            "tags": []
          },
          "execution_count": 5
        }
      ]
    },
    {
      "cell_type": "markdown",
      "metadata": {
        "id": "P1lc1e_YcjmK"
      },
      "source": [
        "2. Create and array with shape of 4x4 and turn it into two arrays along the second axis.\r\n"
      ]
    },
    {
      "cell_type": "code",
      "metadata": {
        "colab": {
          "base_uri": "https://localhost:8080/"
        },
        "id": "QnXiuwmKdgDn",
        "outputId": "186bc57e-3adc-4faa-8461-ff7963006288"
      },
      "source": [
        "arr2 = np.arange(0,16).reshape(4,4)\r\n",
        "arr2"
      ],
      "execution_count": 6,
      "outputs": [
        {
          "output_type": "execute_result",
          "data": {
            "text/plain": [
              "array([[ 0,  1,  2,  3],\n",
              "       [ 4,  5,  6,  7],\n",
              "       [ 8,  9, 10, 11],\n",
              "       [12, 13, 14, 15]])"
            ]
          },
          "metadata": {
            "tags": []
          },
          "execution_count": 6
        }
      ]
    },
    {
      "cell_type": "code",
      "metadata": {
        "colab": {
          "base_uri": "https://localhost:8080/"
        },
        "id": "T-7caM8Ze6O_",
        "outputId": "22e22c42-4992-4ff1-b313-28f983cd0832"
      },
      "source": [
        "arr3 = np.hsplit(arr2,(2))\r\n",
        "arr3"
      ],
      "execution_count": 13,
      "outputs": [
        {
          "output_type": "execute_result",
          "data": {
            "text/plain": [
              "[array([[ 0,  1],\n",
              "        [ 4,  5],\n",
              "        [ 8,  9],\n",
              "        [12, 13]]), array([[ 2,  3],\n",
              "        [ 6,  7],\n",
              "        [10, 11],\n",
              "        [14, 15]])]"
            ]
          },
          "metadata": {
            "tags": []
          },
          "execution_count": 13
        }
      ]
    }
  ]
}